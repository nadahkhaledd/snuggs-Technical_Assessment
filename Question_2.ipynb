{
  "nbformat": 4,
  "nbformat_minor": 0,
  "metadata": {
    "colab": {
      "name": "Question 2.ipynb",
      "provenance": []
    },
    "kernelspec": {
      "name": "python3",
      "display_name": "Python 3"
    },
    "language_info": {
      "name": "python"
    }
  },
  "cells": [
    {
      "cell_type": "markdown",
      "source": [
        "# ***Question 2***"
      ],
      "metadata": {
        "id": "UrQDHMPw-7ff"
      }
    },
    {
      "cell_type": "code",
      "source": [
        "cities = ['cairo', 'alexandria']\n",
        "companies = ['xyz shipping', 'dxb shipping']\n",
        "companies_cities_mapping = {'xyz shipping': {'cairo': 'C', 'alexandria': 'A'},\n",
        "                            'dxb shipping': {'cairo': 'CAI', 'alexandria': 'ALX'}}\n",
        "\n",
        "def get_city_mapping(city_name: str, shipping_company_name: str) -> str:\n",
        "    \"\"\"Returns the city mapping format for the specified shipping company.\n",
        "\n",
        "            Parameters:\n",
        "                    city_name (str): string with the full name of the city\n",
        "                    shipping_company_name (str): string with the full name of the specified shipping company\n",
        "\n",
        "            Returns:\n",
        "                    city_mapping (str): mapping format for the city that corresponds to the shipping company\"\"\"\n",
        "\n",
        "    if companies_cities_mapping.keys().__contains__(shipping_company_name.lower()):\n",
        "        if companies_cities_mapping.get(shipping_company_name.lower()).__contains__(city_name.lower()):\n",
        "            return companies_cities_mapping.get(shipping_company_name.lower()).get(city_name.lower())\n",
        "        else:\n",
        "            return 'invalid or non-found city name'\n",
        "    else:\n",
        "        return 'invalid or non-found shipping company name'\n"
      ],
      "metadata": {
        "id": "V_FMLwq2-k_u"
      },
      "execution_count": 6,
      "outputs": []
    },
    {
      "cell_type": "code",
      "source": [
        "# test 1\n",
        "print(get_city_mapping('Cairo', 'dxb Shipping'))"
      ],
      "metadata": {
        "colab": {
          "base_uri": "https://localhost:8080/"
        },
        "id": "UDHubIphKOiG",
        "outputId": "d3901e79-997b-4811-883f-590412661124"
      },
      "execution_count": 7,
      "outputs": [
        {
          "output_type": "stream",
          "name": "stdout",
          "text": [
            "CAI\n"
          ]
        }
      ]
    },
    {
      "cell_type": "code",
      "source": [
        "# test 2\n",
        "print(get_city_mapping('Hurgada', 'dxb Shipping'))"
      ],
      "metadata": {
        "colab": {
          "base_uri": "https://localhost:8080/"
        },
        "id": "uWppdXO7Ooez",
        "outputId": "25c8a211-712a-497a-aa4d-6907f772eb1a"
      },
      "execution_count": 8,
      "outputs": [
        {
          "output_type": "stream",
          "name": "stdout",
          "text": [
            "invalid or non-found city name\n"
          ]
        }
      ]
    },
    {
      "cell_type": "code",
      "source": [
        "# test 3\n",
        "print(get_city_mapping('Cairo', 'snuggs'))"
      ],
      "metadata": {
        "colab": {
          "base_uri": "https://localhost:8080/"
        },
        "id": "cGlU_SF_Oy96",
        "outputId": "fc80a75e-f142-43cf-8054-1f54428bfd0a"
      },
      "execution_count": 9,
      "outputs": [
        {
          "output_type": "stream",
          "name": "stdout",
          "text": [
            "invalid or non-found shipping company name\n"
          ]
        }
      ]
    }
  ]
}