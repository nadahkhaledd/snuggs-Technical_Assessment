{
  "nbformat": 4,
  "nbformat_minor": 0,
  "metadata": {
    "colab": {
      "name": "Question 3.ipynb",
      "provenance": []
    },
    "kernelspec": {
      "name": "python3",
      "display_name": "Python 3"
    },
    "language_info": {
      "name": "python"
    }
  },
  "cells": [
    {
      "cell_type": "markdown",
      "source": [
        "# ***Question 3***"
      ],
      "metadata": {
        "id": "YCvP7nTU-m4W"
      }
    },
    {
      "cell_type": "code",
      "execution_count": 4,
      "metadata": {
        "id": "ifWVJMsN835K"
      },
      "outputs": [],
      "source": [
        "def getDuplicateNumber(x) -> int:\n",
        "  for item in x:\n",
        "    if x.count(item) > 1:\n",
        "      return item"
      ]
    },
    {
      "cell_type": "code",
      "source": [
        " # only for testing \n",
        "items = []\n",
        "for i in range(1, 101):\n",
        "  items.append(i)\n",
        "\n",
        "items.append(3)\n",
        "\n",
        "print(getDuplicateNumber(items)) # should print 3"
      ],
      "metadata": {
        "colab": {
          "base_uri": "https://localhost:8080/"
        },
        "id": "iuQkwpjaKx1r",
        "outputId": "938029d8-f1c8-47a2-ace4-cc952720ee08"
      },
      "execution_count": 5,
      "outputs": [
        {
          "output_type": "stream",
          "name": "stdout",
          "text": [
            "3\n"
          ]
        }
      ]
    }
  ]
}